{
 "cells": [
  {
   "cell_type": "markdown",
   "metadata": {},
   "source": [
    "# SMU 7331 Data Mining Project 2\n",
    "##### Authors: Shon Mohsin, Heber Nielsen, Jose Torres, Lokesh Maganti"
   ]
  },
  {
   "cell_type": "code",
   "execution_count": 1,
   "metadata": {
    "collapsed": false
   },
   "outputs": [
    {
     "name": "stdout",
     "output_type": "stream",
     "text": [
      "Sklearn Version: 0.20.0\n",
      "Pandas Version: 0.23.0\n"
     ]
    }
   ],
   "source": [
    "import math\n",
    "import re\n",
    "import statistics\n",
    "\n",
    "%matplotlib inline\n",
    "import matplotlib.pyplot as plt\n",
    "import numpy as np\n",
    "import pandas as pd\n",
    "import seaborn as sns\n",
    "import sklearn\n",
    "from IPython.display import display, HTML\n",
    "from sklearn.decomposition import PCA, NMF\n",
    "from sklearn.feature_selection import RFE\n",
    "from sklearn.feature_selection import SelectKBest, chi2, SelectPercentile\n",
    "from sklearn.linear_model import LogisticRegression\n",
    "from sklearn.linear_model import SGDClassifier\n",
    "from sklearn.metrics import accuracy_score\n",
    "from sklearn.metrics import confusion_matrix\n",
    "from sklearn.model_selection import GridSearchCV\n",
    "from sklearn.model_selection import KFold\n",
    "from sklearn.model_selection import train_test_split\n",
    "from sklearn.naive_bayes import MultinomialNB\n",
    "from sklearn.pipeline import Pipeline\n",
    "from sklearn.pipeline import make_pipeline\n",
    "from sklearn.preprocessing import Binarizer\n",
    "from sklearn.preprocessing import StandardScaler\n",
    "from sklearn.svm import SVC, LinearSVC\n",
    "from sklearn.model_selection import KFold\n",
    "from sklearn.svm import SVC\n",
    "%matplotlib inline\n",
    "from sklearn.datasets import load_iris\n",
    "from sklearn.model_selection import train_test_split\n",
    "from sklearn.preprocessing import StandardScaler\n",
    "from sklearn.decomposition import PCA\n",
    "from sklearn.pipeline import Pipeline\n",
    "from sklearn.externals import joblib\n",
    "from sklearn.linear_model import LogisticRegression\n",
    "from sklearn import svm\n",
    "from sklearn import tree\n",
    "import numpy as np\n",
    "from sklearn.pipeline import Pipeline\n",
    "from sklearn.feature_extraction.text import CountVectorizer\n",
    "from sklearn.svm import LinearSVC\n",
    "from sklearn.feature_extraction.text import TfidfTransformer\n",
    "from sklearn.multiclass import OneVsRestClassifier\n",
    "from sklearn import preprocessing\n",
    "from sklearn.metrics import accuracy_score\n",
    "from sklearn.model_selection import KFold\n",
    "from sklearn.preprocessing import OneHotEncoder\n",
    "from sklearn.linear_model import LogisticRegression\n",
    "from sklearn.svm import SVC, LinearSVC\n",
    "from sklearn.metrics import accuracy_score, precision_score, recall_score, f1_score, classification_report\n",
    "\n",
    "\n",
    "print('Sklearn Version: ' + sklearn.__version__)\n",
    "print('Pandas Version: ' + pd.__version__)\n"
   ]
  },
  {
   "cell_type": "code",
   "execution_count": 2,
   "metadata": {
    "collapsed": true
   },
   "outputs": [],
   "source": [
    "import warnings\n",
    "warnings.filterwarnings('ignore')"
   ]
  },
  {
   "cell_type": "code",
   "execution_count": 3,
   "metadata": {
    "collapsed": true
   },
   "outputs": [],
   "source": [
    "url = 'https://raw.githubusercontent.com/ShonTM/DataMiningProject1/master/Chilean%20Earthquake%20Perinatal%20Outcome_english_translation.csv'\n",
    "df=pd.read_csv(url)"
   ]
  },
  {
   "cell_type": "markdown",
   "metadata": {},
   "source": [
    "## Business Understanding:\n",
    "\n",
    "Our selected data set was chosen because we had an interest in the subject matter written about in the following paper: _[\"Effects of earthquake on perinatal outcomes: A Chilean register-based study\"](https://github.com/ShonTM/DataMiningProject1/blob/master/chile%20earthquake%20plos%20one%20paper.pdf)_  by Yasna K. Palmeiro-Silva, et al. The paper studied whether the February 27, 2010 earthquake in Chile affected the perinatal outcomes of Chilean pregnant women. \n",
    "\n",
    "TO DO"
   ]
  },
  {
   "cell_type": "markdown",
   "metadata": {},
   "source": [
    "## Data Understanding:"
   ]
  },
  {
   "cell_type": "markdown",
   "metadata": {},
   "source": [
    "The following description of the data gathering process is from the paper describing the data quality:\n",
    "\n",
    "All demographic and clinical information was abstracted and recorded by professional workers (medical doctors, midwives, and nurses). The data abstracted included: date of delivery, gestational age at delivery (in weeks), maternal age (in years), parity of mother, the place of residence, the gender of newborns, birth weight (in grams), length (in centimeters), head circumference (in centimeters), Apgar at 1 and 5 minutes, if small for gestational age (SGA) (defined as newborn birth weight <10th percentile for gestational age), ponderal index (weight/height3), preterm delivery (birth between 34–37 weeks). Gender of newborns, location of residence, gestational age (either in weeks or days), parity and maternal age were considered by the study authors as effect modifiers; location of residence was related to three categories of average annual income: low income (500,000 to 1 million Chilean pesos), middle income (1 to 1.5 million Chilean pesos) and high income (more than 1.5 million Chilean pesos).  "
   ]
  },
  {
   "cell_type": "markdown",
   "metadata": {},
   "source": [
    "## Data Preparation:\n",
    "\n",
    "The columns are converted to their english values as described in the Data Overview section. The conversion is done directly to the csv file using excel and find and replace functions in python for the class variables. "
   ]
  },
  {
   "cell_type": "markdown",
   "metadata": {},
   "source": [
    "#### Data Meaning Type"
   ]
  },
  {
   "cell_type": "markdown",
   "metadata": {},
   "source": [
    "For each variable (column), the first line below gives Spanish name, English equivalent, and data type as labeled by STATA. The second line gives more explanation of the variable.\n",
    "\n",
    "id_clinica = Clinic_ID (numeric, long, nominal)\n",
    "  <br>ID# of the medical clinic.\n",
    "\n",
    "id_excel = Excel_File_ID (numeric, int, nominal )\n",
    "<br>ID# of the excel line in the first \"whole data\" file before eliminating non-eligible    pregnancies/deliveries (see chart of data cleaning)\n",
    "\n",
    "dia = Day (numeric, byte, ordinal)\n",
    "<br> Day of the month the baby was born. \n",
    "\n",
    "mes = Month  (numeric, byte, ordinal)\n",
    "<br>Month of birth of the infant (numeric)\n",
    "\n",
    "ano = Year (numeric, int, ordinal)\n",
    "<br>Year of birth\n",
    "\n",
    "sexo = Sex (numeric, byte, nominal)\n",
    " <br>Values: Mujer = Female; Hombre = Male\n",
    "<br>Sex of the infant. In the Stata data file these were converted to numeric values:\n",
    "0 (hombre) =  male,   1 (mujer) = females\n",
    "\n",
    "peso = Weight (numeric, int, continuous)\n",
    " <br>The birth weight of the infant, in grams, rounded to 1 gram\n",
    "\n",
    "talla = Length (numeric, float, continuous)\n",
    "<br>The length (i.e., height) of the baby in cm, rounded to 0.1 cm  \"Talla\" actually means \"size\" but this is the length measurement.\n",
    "\n",
    "cc = Head_circ (Head circumference (numeric, float, continuous)\n",
    "<br>The circumference of the head, measured at about the forehead/eyebrow level, in cm, rounded to 0.01 cm.\n",
    "\n",
    "apgar = Apgar_1 (the Apgar score at one minute of life(numeric, byte, ordinal))\n",
    " <br>See apgar5 for complete explanation.\n",
    "\n",
    "apgar5 = Apgar_5 (the Apgar score at five minutes of life(numeric, byte, ordinal))\n",
    "<br>The Apgar score is a sum of five physiologic parameters each scored from zero to two. So the Apgar score can range from 0 to 10.  This score is routinely calculated for all newborn infants at 1 and 5 minutes of age. It is a clinical summary of how well a newborn is making the transition into life outside of the uterus. A \"normal\" score is 7 or more. Lower scores indicate a \"difficult\" transition, and may reflect either intrinsic or extrinsic factors that are affecting the infant.  While both scores are useful as a standardized documentation of  the transition process, only the 5 minute Apgar has some prediction  power for long term outcome. \n",
    "\n",
    "comuna = Municipality (numeric, byte, ordinal)\n",
    "<br>They used Average Annual Income (in millions of Chilean Pesos) binned into 3 categories, to identify the \"place of residence\", using their  term from the publication.\n",
    " In the Stata data set this is given 3 values, defined as the following:\n",
    " 0 = > 1.5 million (high incomel)\n",
    "1 = 1.0 million to 1.5 million (medium income)\n",
    "2 = 500,000 to 1.0 million (low income)\n",
    "\n",
    "aeg = wgt_for_age (the baby's weight for gestational age (numeric, byte, continuous )\n",
    "<br>Newborn babies are rated as being small for gestational age, appropriate for gestational age, or large for gestational age.   These designations come from population-based nomograms, and are a function of birth weight and the gestational age.  The designation is important because small for gestational age (SGA) and large for gestational age (LGA) babies are biomarkers of  risk for important problems in the first days of life. SGA is defined as <10%ile for gestational age. LGA is defined as >90%ile for gestational age. In the Stata data set these are designated as follows:\n",
    "0 (aeg) = Appropriate for Gestational Age (AGA)\n",
    "1 (Peg) = Small for Gestational Age (SGA)\n",
    "2 (geg) = Large for Gestational Age (LGA)\n",
    "\n",
    "eg = Gest_age (Gestational age (numeric, byte, continuous))\n",
    " <br>The gestational age of the child at birth. Given in completed weeks (i.e., 37 weeks plus 4 days is 37)\n",
    "\n",
    "trim_exp = Trimester  (numeric, float, ordinal)\n",
    "<br>Pregnancies are divided into thirds, called trimesters. This variable indicates the specific trimester (part) of the pregnancy that corresponded  to the date of the earthquake, whether in the quake year or in the control year. The study population is comprised of women who were   pregnant during the time of the earthquake, or at the same time of the year in the previous  year. This variable only classifies the  trimester against the time of year, irrespective of which year.  In the Stata data set this is given as follows:\n",
    "1 (primero) = First \n",
    "2 (segundo) = Second \n",
    "3 (tercero) = Third \n",
    "\n",
    "bajo_peso = Low_birthwgt (Low birthweight (numeric, float, continuous))\n",
    "<br>A different biomarker of a newborn's risk of problems at birth is whether the child is \"Low Birthweight\", routinely defined as <2500 grams at birth. It is an older and weaker means of identifying babies at risk of problems in the newborn period  than the size for gestational  age (above) or gestational age at birth (below) but it continues to be recorded in many studies of newborns. The Stata data set gives two  values:\n",
    "0 = normal birthweight (sobre 2500)\n",
    "1 = low birthweight (bajo 2500)\n",
    "\n",
    "pretermino = Premature (numeric, float, nominal)\n",
    "Designates a baby as having been born premature (less than 37 weeks of gestation). A stronger indicator of risk of problems in the newborn period than Low Birthweight. Values in Stata:\n",
    "     0 = (sobre 37) = Not premature\n",
    "    1 =  (34 - 37) = Premature\n",
    "\n",
    "edad_mama = Maternal_age (numeric, float, continuous)\n",
    "Age of the mother, in years.\n",
    "\n",
    "paridad = Parity (numeric, float, continuous)\n",
    " <br>Parity is the number of live births the mother has had previous to this current baby. \n",
    "\n",
    "trim_exp_g = Trim_study (The trimester of pregnancy at the study interval for each year(numeric, int, ordinal)\n",
    "<br>This variable breaks down the trim_exp variable into those who were in the control year and those who were in the earthquake year.  Stata gives 6 values, as follows:\n",
    "1 = First trimester, year 2009 (primero2009)\n",
    "2 = Second trimester, year 2009 (segundo2009)\n",
    "3 = Third trimester, year 2009 (tercero2009)\n",
    "4 = First trimester, year 2010 (primero2010)\n",
    "5 = Second trimester, year 2010 (segundo2010)\n",
    "6 = Third trimester, year 2010 (tercero2010)\n",
    "\n",
    "pi = Ponderal_index (numeric, float, continuous)\n",
    "<br>Used as a more complex measure of adequate or inadequate fetal growth. Calculated as weight in grams / length (or height) in cm cubed\n",
    "\n",
    "exposed = Exposed (numeric, float, nominal)\n",
    "<br>Whether or not the pregnancy was exposed to the earthquake, i.e. a control or experimental. Given as a number which Stata strangely does not define. We can define it by data inspection, as follows:\n",
    "0 = Not exposed (control group)\n",
    "1 = Exposed (earthquake group)"
   ]
  },
  {
   "cell_type": "markdown",
   "metadata": {},
   "source": [
    "The columns are converted to their english values as described in the Data Overview section. The conversion is done directly to the csv file using excel and find and replace functions in python for the class variables. "
   ]
  },
  {
   "cell_type": "markdown",
   "metadata": {},
   "source": [
    "| Feature Name (Original)       | Feature Name (English) | Description               | Variable Type                |\n",
    "| -----------------------------:| ----------------------:|--------------------------:|-----------------------------:|\n",
    "| id_clinica                    | Clinic_ID              | ID# of the medical clinic | numeric                      |\n",
    "| id_excel                      | Excel_File_ID          | ID# in original source    |                              |\n",
    "| dia                           | Day                    | Day in birth month        | numeric                      |\n",
    "| mes                           | Month                  | Birth month               | numeric                      |\n",
    "| ano                           | Year                   | Birth year                | numeric                      |\n",
    "| sex                           | Sex                    | Birth sex (Mujer/Hombre)  | numeric                      |\n",
    "| peso                          | Weight                 | Birth weight in grams| numeric                           |\n",
    "| talla                         | Length                 | Birth length in cm        | numeric                      |\n",
    "| cc                            | Head_circ              | Head circumference in cm (eyebrow level) | numeric       |\n",
    "| apgar                         | Apgar_1                | Apgar score 1 minute after birth | numeric               |\n",
    "| apgar5                        | Apgar_5                | Apgar score 5 minutes after birth | numeric              |\n",
    "| comuna                        | Municipality           | Avg. annual income in Chilean Pesos | numeric            |\n",
    "| aeg                           | wgt_for_age            | Weight relative to gestational age | Categorical         |\n",
    "| eg                            | Gest_age               | Gestational age at birth in weeks  | numeric             |\n",
    "| trim_exp                      | Trimester              | Trimester on February 27 of either study year| numeric   |\n",
    "| bajo_peso                     | Low_bthwgt             | Indicator for weight under 2500 grams | Categorical      |\n",
    "| pretermino                    | Premature              | Indicator for gestation period less than 37 weeks | Categorical  |\n",
    "| edad_mama                     | Maternal_Age           | Age of mother in years    | numeric                      |\n",
    "| paridad                       | Parity                 | Number of previous live births by same mother | numeric  |\n",
    "| trim_exp_g                    | Trim_study             | Trimester combined with study year (1-6)   | Categorical |\n",
    "| pi                            | Pondural Index         | Calculation representing fetal growth | numeric          |\n",
    "| exposed                       | Exposed                | Indicator of control or earthquake group | Categorical   |"
   ]
  },
  {
   "cell_type": "code",
   "execution_count": 4,
   "metadata": {
    "collapsed": false
   },
   "outputs": [
    {
     "name": "stdout",
     "output_type": "stream",
     "text": [
      "<class 'pandas.core.frame.DataFrame'>\n",
      "RangeIndex: 4076 entries, 0 to 4075\n",
      "Data columns (total 22 columns):\n",
      "Clinic_ID         239 non-null float64\n",
      "Excel_File_ID     4076 non-null int64\n",
      "Day               4076 non-null int64\n",
      "Month             4076 non-null int64\n",
      "Year              4076 non-null int64\n",
      "Sex               4076 non-null object\n",
      "Weight            4076 non-null int64\n",
      "Length            4076 non-null float64\n",
      "Head_circ         4076 non-null float64\n",
      "Apgar_1           4076 non-null int64\n",
      "Apgar_5           4076 non-null int64\n",
      "Municipality      4076 non-null object\n",
      "wgt_for_age       4076 non-null object\n",
      "Gest_age          4076 non-null int64\n",
      "Trimester         4076 non-null object\n",
      "Low_birthwgt      4076 non-null object\n",
      "Premature         4076 non-null object\n",
      "Maternal_age      4076 non-null int64\n",
      "Parity            4074 non-null float64\n",
      "Trim_study        4076 non-null object\n",
      "Ponderal_index    4076 non-null float64\n",
      "Exposed           4076 non-null int64\n",
      "dtypes: float64(5), int64(10), object(7)\n",
      "memory usage: 700.6+ KB\n"
     ]
    }
   ],
   "source": [
    "df.info()"
   ]
  },
  {
   "cell_type": "markdown",
   "metadata": {},
   "source": [
    "One additional comment on APGAR scores.  APGAR is an acronym for the categories: Activity, Pulse, Grimace, Appearance, and Respiration.  It summarizes how well the newborn is making the transition to life outside the uterus.  Points are assigned to each each category based on level of activity observed, and range from 0 to 2.  The sum of all points (maximum score = 10) represents the APGAR score."
   ]
  },
  {
   "cell_type": "markdown",
   "metadata": {},
   "source": [
    "## Data Preparation (15 points total)"
   ]
  },
  {
   "cell_type": "markdown",
   "metadata": {},
   "source": [
    "## Data Quality\n",
    "\n",
    "The discussion and cells below provide commentary on the quality of this data set.\n",
    "\n",
    "### Missing Values\n",
    "`Clinic_ID` and `Excel_File_ID` are dropped because they are not needed for analysis. Furthermore, the two `NaN` values in `Parity` are inputed with the most commonly observed value of 0.  Since 0 is the mode of `Parity`, we impute the two NaNs with 0.\n",
    "\n",
    "### Duplicates\n",
    "\n",
    "We found `0` duplicates in this data set (see next cell).\n",
    "\n",
    "### Outliers\n",
    "\n",
    "We identified 3 potential outliers based on the scatter plot below of `Weight` vs `Ponderal_index`.  These are newborns whose lengths were much smaller than typical given their weight (more than 4 standard deviations away from the mean)."
   ]
  },
  {
   "cell_type": "code",
   "execution_count": 5,
   "metadata": {
    "collapsed": false,
    "scrolled": true
   },
   "outputs": [
    {
     "name": "stdout",
     "output_type": "stream",
     "text": [
      "Dropping columns Clinic_ID and Excel_File_ID...\n",
      "Replacing NaN values in 'Parity' with 0...\n",
      "Renaming Lenght column to Length..\n"
     ]
    }
   ],
   "source": [
    "#Data Cleanup - Dropping unnecessary columns, replacing NaNs, and fixing column names\n",
    "print('Dropping columns Clinic_ID and Excel_File_ID...')\n",
    "print('Replacing NaN values in \\'Parity\\' with 0...')\n",
    "print('Renaming Lenght column to Length..')\n",
    "\n",
    "#drop \"Clinic_ID\" and \"Excel_File_ID\" from dataframe\n",
    "df.drop('Clinic_ID', axis=1, inplace=True, errors='ignore')\n",
    "df.drop('Excel_File_ID', axis=1, inplace=True, errors='ignore')\n",
    "\n",
    "\n",
    "#identify records with missing values\n",
    "#display(df.iloc[df['Parity'].isna().get_values(),:].transpose() \\\n",
    "#           .style.highlight_null(null_color='red'))\n",
    "\n",
    "#replace NaN in Parity with 0, which is the most common label\n",
    "df['Parity'].fillna(0, inplace=True)\n",
    "\n",
    "\n",
    "#rename length column\n",
    "df.rename(columns={'Lenght': 'Length'}, inplace=True)"
   ]
  },
  {
   "cell_type": "code",
   "execution_count": 6,
   "metadata": {
    "collapsed": false,
    "scrolled": true
   },
   "outputs": [
    {
     "name": "stdout",
     "output_type": "stream",
     "text": [
      "There are 0 duplicated records.\n"
     ]
    }
   ],
   "source": [
    "print('There are {} duplicated records.'.format(df.duplicated().sum()))"
   ]
  },
  {
   "cell_type": "markdown",
   "metadata": {},
   "source": [
    "## Identify and Remove Highly Correlated Features"
   ]
  },
  {
   "cell_type": "code",
   "execution_count": 7,
   "metadata": {
    "collapsed": false
   },
   "outputs": [
    {
     "data": {
      "text/plain": [
       "<matplotlib.axes._subplots.AxesSubplot at 0x7f9e1bd3e668>"
      ]
     },
     "execution_count": 7,
     "metadata": {},
     "output_type": "execute_result"
    },
    {
     "data": {
      "image/png": "[encoded data removed]",
      "text/plain": [
       "<Figure size 2880x6480 with 2 Axes>"
      ]
     },
     "metadata": {},
     "output_type": "display_data"
    }
   ],
   "source": [
    "# calculate the correlation matrix\n",
    "corr_matrix  = df.corr().abs()\n",
    "# Select upper triangle of correlation matrix\n",
    "upper = corr_matrix.where(np.triu(np.ones(corr_matrix.shape), k=1).astype(np.bool))\n",
    "# Find index of feature columns with correlation greater than 0.7\n",
    "to_drop = [column for column in upper.columns if any(upper[column] > 0.7)]\n",
    "# plot the heatmap\n",
    "fig, ax = plt.subplots(figsize=(40,90)) \n",
    "sns.set(font_scale=1)\n",
    "sns.heatmap(upper[to_drop] , linewidths=.5, ax=ax)"
   ]
  },
  {
   "cell_type": "code",
   "execution_count": 8,
   "metadata": {
    "collapsed": false
   },
   "outputs": [
    {
     "ename": "NameError",
     "evalue": "name 'categories' is not defined",
     "output_type": "error",
     "traceback": [
      "\u001b[0;31m---------------------------------------------------------------------------\u001b[0m",
      "\u001b[0;31mNameError\u001b[0m                                 Traceback (most recent call last)",
      "\u001b[0;32m<ipython-input-8-a01b0b728aa0>\u001b[0m in \u001b[0;36m<module>\u001b[0;34m()\u001b[0m\n\u001b[0;32m----> 1\u001b[0;31m \u001b[0mcategories_\u001b[0m \u001b[0;34m=\u001b[0m \u001b[0mcategories\u001b[0m\u001b[0;34m.\u001b[0m\u001b[0mcopy\u001b[0m\u001b[0;34m(\u001b[0m\u001b[0;34m)\u001b[0m\u001b[0;34m\u001b[0m\u001b[0;34m\u001b[0m\u001b[0m\n\u001b[0m\u001b[1;32m      2\u001b[0m \u001b[0mcategories_\u001b[0m\u001b[0;34m.\u001b[0m\u001b[0mremove\u001b[0m\u001b[0;34m(\u001b[0m\u001b[0;34m'Exposed'\u001b[0m\u001b[0;34m)\u001b[0m\u001b[0;34m\u001b[0m\u001b[0;34m\u001b[0m\u001b[0m\n\u001b[1;32m      3\u001b[0m \u001b[0;34m\u001b[0m\u001b[0m\n\u001b[1;32m      4\u001b[0m X_continuous = (StandardScaler()\n\u001b[1;32m      5\u001b[0m                 .fit_transform(df_new_l[continuous].values))\n",
      "\u001b[0;31mNameError\u001b[0m: name 'categories' is not defined"
     ]
    }
   ],
   "source": [
    "categories_ = categories.copy()\n",
    "categories_.remove('Exposed')\n",
    "\n",
    "X_continuous = (StandardScaler()\n",
    "                .fit_transform(df_new_l[continuous].values))\n",
    "X_categorical = (OneHotEncoder(\n",
    "                categories='auto', sparse=False)\n",
    "                 .fit_transform(df_new_l[categories_].values))\n",
    "X = np.concatenate((X_continuous, X_categorical), axis=1)\n",
    "y = df_new_l[['Exposed']].values\n"
   ]
  },
  {
   "cell_type": "markdown",
   "metadata": {},
   "source": [
    "## More efficient parameter tuning using GridSearchCV"
   ]
  },
  {
   "cell_type": "markdown",
   "metadata": {},
   "source": [
    "Allows you to define a grid of parameters that will be searched using K-fold cross-validation"
   ]
  },
  {
   "cell_type": "code",
   "execution_count": null,
   "metadata": {
    "collapsed": false
   },
   "outputs": [],
   "source": [
    "from sklearn import model_selection\n",
    "from sklearn.neighbors import KNeighborsClassifier\n",
    "\n",
    "X_train, X_test, y_train, y_test = train_test_split(X, y, test_size = 0.2, random_state = 101)\n",
    "\n",
    "scaler = MinMaxScaler()\n",
    "scaler.fit(X_train)\n",
    "\n",
    "# normalize explanatory variable x for task1\n",
    "x_train_norm1 = scaler.transform(X_train)\n",
    "x_test_norm1  = scaler.transform(X_test)\n",
    "\n",
    "# normalize explanatory variable x for task2 (probably don't need to do this separately)\n",
    "x_train_norm2 = scaler.transform(X_train)\n",
    "x_test_norm2  = scaler.transform(X_test)\n",
    "\n",
    "#Neighbors\n",
    "neighbors = np.arange(0,25)\n",
    "\n",
    "#Create empty list that will hold cv scores\n",
    "cv_scores = []\n",
    "\n",
    "#Perform 10-fold cross validation on training set for odd values of k:\n",
    "for k in neighbors:\n",
    "    k_value = k+1\n",
    "    knn = KNeighborsClassifier(n_neighbors = k_value, weights='uniform', p=2, metric='euclidean')\n",
    "    kfold = model_selection.KFold(n_splits=10, random_state=42)\n",
    "    scores = model_selection.cross_val_score(knn, X_train, y_train, cv=kfold, scoring='recall')\n",
    "    cv_scores.append(scores.mean()*100)\n",
    "    print(\"k=%d %0.2f (+/- %0.2f)\" % (k_value, scores.mean()*100, scores.std()*100))\n",
    "\n",
    "optimal_k = neighbors[cv_scores.index(max(cv_scores))]\n",
    "print (\"The optimal number of neighbors is %d with %0.1f%%\" % (optimal_k, cv_scores[optimal_k]))\n",
    "\n",
    "plt.plot(neighbors, cv_scores)\n",
    "plt.xlabel('Number of Neighbors K')\n",
    "plt.ylabel('Train Accuracy')\n",
    "plt.show()"
   ]
  },
  {
   "cell_type": "code",
   "execution_count": null,
   "metadata": {
    "collapsed": false
   },
   "outputs": [],
   "source": [
    "#create new a knn model\n",
    "knn2 = KNeighborsClassifier()\n",
    "k_range = list(range(1,31))\n",
    "print(k_range)\n",
    "#create a dictionary of all values we want to test for n_neighbors\n",
    "param_grid = dict(n_neighbors=k_range)\n",
    "#use gridsearch to test all values for n_neighbors\n",
    "knn_gscv = GridSearchCV(knn2, param_grid, cv=5, scoring='recall')\n",
    "#fit model to data\n",
    "knn_gscv.fit(X_train, y_train)\n",
    "#check top performing n_neighbors value\n",
    "print('Best Params for KNN',knn_gscv.best_params_)\n",
    "#check mean score for the top performing value of n_neighbors\n",
    "print('Best mean score for KNN',knn_gscv.best_score_)"
   ]
  },
  {
   "cell_type": "code",
   "execution_count": null,
   "metadata": {
    "collapsed": false
   },
   "outputs": [],
   "source": [
    "%%time\n",
    "# Random Forest\n",
    "clf = RandomForestClassifier(max_depth = 5, n_estimators = 10, max_features = 1)\n",
    "rf_task1_model = clf.fit(x_train_norm1, y_train)\n",
    "y_predict = rf_task1_model.predict(x_test_norm1)\n",
    "accuracy = float((y_predict == y_test).sum())/float(len(y_test))\n",
    "print('Random Forest Accuracy: {0:.3f}'.format(accuracy))\n",
    "\n",
    "print('Confusion Matrix:\\n', confusion_matrix(y_test, y_predict))\n",
    "print(classification_report(y_test, y_predict))"
   ]
  },
  {
   "cell_type": "code",
   "execution_count": null,
   "metadata": {
    "collapsed": false
   },
   "outputs": [],
   "source": [
    "# top 10 important features\n",
    "important_features = rf_task1_model.feature_importances_\n",
    "feature_importance = dict(zip(list(df_new), important_features))\n",
    "feature_importance_sorted = pd.DataFrame(columns = ['variable', 'importance'])\n",
    "\n",
    "for key in sorted(feature_importance, key = lambda l:abs(feature_importance[l]), reverse = True):\n",
    "    temp = pd.DataFrame([[key, feature_importance[key]]], columns = ['variable', 'importance'])\n",
    "    feature_importance_sorted = feature_importance_sorted.append(temp)\n",
    "print(\"Top 10 Important Features: \\n\", feature_importance_sorted[0:10])"
   ]
  },
  {
   "cell_type": "code",
   "execution_count": null,
   "metadata": {
    "collapsed": false
   },
   "outputs": [],
   "source": [
    "# plot the tasks\n",
    "\n",
    "# plot the tasks\n",
    "labels = list(feature_importance_sorted['variable'][0:10])\n",
    "importance = list(feature_importance_sorted['importance'][0:10])\n",
    "y_position = np.arange(len(labels),0,-1)\n",
    "plt.subplot(1,2,1)\n",
    "plt.barh(y_position,importance,align='center', alpha=0.5)\n",
    "plt.yticks(y_position,labels)\n",
    "plt.xlabel('weights')\n",
    "plt.title('Random Forest - task 1')\n",
    "plt.ylim(0,11)\n",
    "plt.tight_layout()"
   ]
  },
  {
   "cell_type": "code",
   "execution_count": null,
   "metadata": {
    "collapsed": false
   },
   "outputs": [],
   "source": [
    "%%time\n",
    "# SVM (linear)\n",
    "clf_t1_lsvm = SVC(kernel = \"linear\", C = 0.025)\n",
    "lsvm_t1_model = clf_t1_lsvm.fit(X_train, y_train)\n",
    "y_svmt1_predict = lsvm_t1_model.predict(x_test_norm1)\n",
    "accuracy = float((y_svmt1_predict == y_test).sum())/float(len(y_test))\n",
    "print('Linear Support Vector Machine Accuracy: {0:.3f}'.format(accuracy))\n",
    "\n",
    "print('Confusion Matrix:\\n', confusion_matrix(y_test, y_svmt1_predict))\n",
    "print(classification_report(y_test, y_svmt1_predict))"
   ]
  },
  {
   "cell_type": "code",
   "execution_count": null,
   "metadata": {
    "collapsed": false
   },
   "outputs": [],
   "source": [
    "# top 10 important features\n",
    "important_features = lsvm_t1_model.coef_[0]\n",
    "top_svm_t1 = pd.DataFrame(list(zip(list(df_new), important_features)), columns = ['variable', 'importance'])\n",
    "top_svm_t1_sorted = top_svm_t1.reindex(top_svm_t1.importance.abs().sort_values(ascending = False).index)\n",
    "print(\"Top 10 Important Features SVM : \\n\", top_svm_t1_sorted[0:10])"
   ]
  },
  {
   "cell_type": "code",
   "execution_count": null,
   "metadata": {
    "collapsed": false
   },
   "outputs": [],
   "source": [
    "# plot the tasks\n",
    "\n",
    "# plot SVM \n",
    "labels = list(top_svm_t1_sorted['variable'][0:10])\n",
    "importance = list(top_svm_t1_sorted['importance'][0:10])\n",
    "y_position = np.arange(len(labels),0,-1)\n",
    "plt.subplot(1,2,1)\n",
    "plt.barh(y_position,importance,align='center', alpha=0.5)\n",
    "plt.yticks(y_position,labels)\n",
    "plt.xlabel('weights')\n",
    "plt.title('SVM (linear) - ')\n",
    "plt.ylim(0,11)\n",
    "plt.tight_layout()\n"
   ]
  },
  {
   "cell_type": "code",
   "execution_count": 84,
   "metadata": {
    "collapsed": false
   },
   "outputs": [
    {
     "name": "stdout",
     "output_type": "stream",
     "text": [
      "Decision Tree Accuracy : 408.885 \n",
      "Confusion Matrix:\n",
      " [[389   0]\n",
      " [  0 427]]\n",
      "              precision    recall  f1-score   support\n",
      "\n",
      "           0       1.00      1.00      1.00       389\n",
      "           1       1.00      1.00      1.00       427\n",
      "\n",
      "   micro avg       1.00      1.00      1.00       816\n",
      "   macro avg       1.00      1.00      1.00       816\n",
      "weighted avg       1.00      1.00      1.00       816\n",
      "\n",
      "Wall time: 13 ms\n"
     ]
    }
   ],
   "source": [
    "%%time\n",
    "# Decision Tree\n",
    "from sklearn.tree import DecisionTreeClassifier\n",
    "\n",
    "clf_t1_dtree = DecisionTreeClassifier(max_depth = 5)\n",
    "dtree_t1_model = clf_t1_dtree.fit(X_train, y_train)\n",
    "y_t1_predict = dtree_t1_model.predict(x_test_norm1)\n",
    "accuracy = float((y_t1_predict == y_test).sum())/float(len(y_test))\n",
    "print('Decision Tree Accuracy : {0:.3f} '.format(accuracy))\n",
    "\n",
    "print('Confusion Matrix:\\n', confusion_matrix(y_test, y_t1_predict))\n",
    "print(classification_report(y_test, y_t1_predict))"
   ]
  },
  {
   "cell_type": "code",
   "execution_count": 82,
   "metadata": {
    "collapsed": false
   },
   "outputs": [
    {
     "name": "stdout",
     "output_type": "stream",
     "text": [
      "Decision Tree -  Top 10 Important Features: \n",
      "      variable  importance\n",
      "0  Trim_study    0.220496\n",
      "0         Day    0.000000\n",
      "0       Month    0.000000\n",
      "0        Year    0.000000\n",
      "0         Sex    0.000000\n",
      "0      Weight    0.000000\n",
      "0      Length    0.000000\n",
      "0   Head_circ    0.000000\n",
      "0     Apgar_1    0.000000\n",
      "0     Apgar_5    0.000000\n"
     ]
    }
   ],
   "source": [
    "# top 10 important features - task 1\n",
    "important_features = dtree_t1_model.feature_importances_\n",
    "dt1_feature_importance = dict(zip(list(df_new), important_features))\n",
    "dt1_feature_importance_sorted = pd.DataFrame(columns = ['variable', 'importance'])\n",
    "\n",
    "for key in sorted(dt1_feature_importance, key = lambda l:abs(dt1_feature_importance[l]), reverse = True):\n",
    "    temp = pd.DataFrame([[key, dt1_feature_importance[key]]], columns = ['variable', 'importance'])\n",
    "    dt1_feature_importance_sorted = dt1_feature_importance_sorted.append(temp)\n",
    "print(\"Decision Tree -  Top 10 Important Features: \\n\", dt1_feature_importance_sorted[0:10])"
   ]
  },
  {
   "cell_type": "code",
   "execution_count": 83,
   "metadata": {
    "collapsed": false
   },
   "outputs": [
    {
     "data": {
      "image/png": "[encoded data removed]",
      "text/plain": [
       "<Figure size 432x288 with 1 Axes>"
      ]
     },
     "metadata": {},
     "output_type": "display_data"
    }
   ],
   "source": [
    "# plot the tasks\n",
    "\n",
    "# plot DT task1\n",
    "labels = list(dt1_feature_importance_sorted['variable'][0:10])\n",
    "importance = list(dt1_feature_importance_sorted['importance'][0:10])\n",
    "y_position = np.arange(len(labels),0,-1)\n",
    "plt.subplot(1,2,1)\n",
    "plt.barh(y_position,importance,align='center', alpha=0.5)\n",
    "plt.yticks(y_position,labels)\n",
    "plt.xlabel('weights')\n",
    "plt.title('Decision Tree - task 1 (subscribed)')\n",
    "plt.ylim(0,11)\n",
    "plt.tight_layout()\n"
   ]
  },
  {
   "cell_type": "code",
   "execution_count": 85,
   "metadata": {
    "collapsed": false
   },
   "outputs": [
    {
     "name": "stdout",
     "output_type": "stream",
     "text": [
      "compare above models...\n",
      "\n",
      "Random Forest accuracy: 1631.383%\n",
      "              precision    recall  f1-score   support\n",
      "\n",
      "           0       0.95      0.96      0.95      1580\n",
      "           1       0.96      0.95      0.96      1681\n",
      "\n",
      "   micro avg       0.96      0.96      0.96      3261\n",
      "   macro avg       0.96      0.96      0.96      3261\n",
      "weighted avg       0.96      0.96      0.96      3261\n",
      "\n",
      "SVM-linear accuracy: 1632.064%\n",
      "              precision    recall  f1-score   support\n",
      "\n",
      "           0       1.00      1.00      1.00      1580\n",
      "           1       1.00      1.00      1.00      1681\n",
      "\n",
      "   micro avg       1.00      1.00      1.00      3261\n",
      "   macro avg       1.00      1.00      1.00      3261\n",
      "weighted avg       1.00      1.00      1.00      3261\n",
      "\n"
     ]
    },
    {
     "name": "stderr",
     "output_type": "stream",
     "text": [
      "C:\\Users\\Lokesh\\Anaconda3\\lib\\site-packages\\ipykernel\\__main__.py:39: DataConversionWarning: A column-vector y was passed when a 1d array was expected. Please change the shape of y to (n_samples,), for example using ravel().\n",
      "C:\\Users\\Lokesh\\Anaconda3\\lib\\site-packages\\sklearn\\utils\\validation.py:761: DataConversionWarning: A column-vector y was passed when a 1d array was expected. Please change the shape of y to (n_samples, ), for example using ravel().\n",
      "  y = column_or_1d(y, warn=True)\n",
      "C:\\Users\\Lokesh\\Anaconda3\\lib\\site-packages\\sklearn\\utils\\validation.py:761: DataConversionWarning: A column-vector y was passed when a 1d array was expected. Please change the shape of y to (n_samples, ), for example using ravel().\n",
      "  y = column_or_1d(y, warn=True)\n"
     ]
    },
    {
     "name": "stdout",
     "output_type": "stream",
     "text": [
      "SVM-RBF accuracy: 1649.842%\n",
      "              precision    recall  f1-score   support\n",
      "\n",
      "           0       1.00      0.64      0.78      1580\n",
      "           1       0.75      1.00      0.85      1681\n",
      "\n",
      "   micro avg       0.82      0.82      0.82      3261\n",
      "   macro avg       0.87      0.82      0.82      3261\n",
      "weighted avg       0.87      0.82      0.82      3261\n",
      "\n",
      "Decision Tree accuracy: 1632.064%\n",
      "              precision    recall  f1-score   support\n",
      "\n",
      "           0       1.00      1.00      1.00      1580\n",
      "           1       1.00      1.00      1.00      1681\n",
      "\n",
      "   micro avg       1.00      1.00      1.00      3261\n",
      "   macro avg       1.00      1.00      1.00      3261\n",
      "weighted avg       1.00      1.00      1.00      3261\n",
      "\n"
     ]
    },
    {
     "name": "stderr",
     "output_type": "stream",
     "text": [
      "C:\\Users\\Lokesh\\Anaconda3\\lib\\site-packages\\ipykernel\\__main__.py:39: DataConversionWarning: A column-vector y was passed when a 1d array was expected. Please change the shape of y to (n_samples, ), for example using ravel().\n"
     ]
    },
    {
     "name": "stdout",
     "output_type": "stream",
     "text": [
      "KNN accuracy: 1632.064%\n",
      "              precision    recall  f1-score   support\n",
      "\n",
      "           0       1.00      1.00      1.00      1580\n",
      "           1       1.00      1.00      1.00      1681\n",
      "\n",
      "   micro avg       1.00      1.00      1.00      3261\n",
      "   macro avg       1.00      1.00      1.00      3261\n",
      "weighted avg       1.00      1.00      1.00      3261\n",
      "\n",
      "Adaptive Boost accuracy: 1632.064%\n",
      "              precision    recall  f1-score   support\n",
      "\n",
      "           0       1.00      1.00      1.00      1580\n",
      "           1       1.00      1.00      1.00      1681\n",
      "\n",
      "   micro avg       1.00      1.00      1.00      3261\n",
      "   macro avg       1.00      1.00      1.00      3261\n",
      "weighted avg       1.00      1.00      1.00      3261\n",
      "\n",
      "Naive Bayes accuracy: 1632.064%\n",
      "              precision    recall  f1-score   support\n",
      "\n",
      "           0       1.00      1.00      1.00      1580\n",
      "           1       1.00      1.00      1.00      1681\n",
      "\n",
      "   micro avg       1.00      1.00      1.00      3261\n",
      "   macro avg       1.00      1.00      1.00      3261\n",
      "weighted avg       1.00      1.00      1.00      3261\n",
      "\n"
     ]
    },
    {
     "name": "stderr",
     "output_type": "stream",
     "text": [
      "C:\\Users\\Lokesh\\Anaconda3\\lib\\site-packages\\sklearn\\utils\\validation.py:761: DataConversionWarning: A column-vector y was passed when a 1d array was expected. Please change the shape of y to (n_samples, ), for example using ravel().\n",
      "  y = column_or_1d(y, warn=True)\n",
      "C:\\Users\\Lokesh\\Anaconda3\\lib\\site-packages\\sklearn\\utils\\validation.py:761: DataConversionWarning: A column-vector y was passed when a 1d array was expected. Please change the shape of y to (n_samples, ), for example using ravel().\n",
      "  y = column_or_1d(y, warn=True)\n"
     ]
    }
   ],
   "source": [
    "# more imports\n",
    "from sklearn.tree import DecisionTreeClassifier\n",
    "from sklearn.neighbors import KNeighborsClassifier\n",
    "from sklearn.ensemble import AdaBoostClassifier\n",
    "from sklearn.naive_bayes import GaussianNB\n",
    "\n",
    "# try these\n",
    "classifiers_list = [\"Random Forest\",\"SVM-linear\",\"SVM-RBF\",\"Decision Tree\",\n",
    "               \"KNN\",\"Adaptive Boost\",\"Naive Bayes\"]\n",
    "classifiers = [\n",
    "    RandomForestClassifier(max_depth = 5, n_estimators = 10, max_features = 1),\n",
    "    SVC(kernel = \"linear\", C = 0.025),\n",
    "    SVC(gamma = 2, C = 1),\n",
    "    DecisionTreeClassifier(max_depth = 5),\n",
    "    KNeighborsClassifier(3),\n",
    "    AdaBoostClassifier(),\n",
    "    GaussianNB()]\n",
    "\n",
    "x_train0, x_test0, y_train0, y_test0 = train_test_split(X, y, test_size=0.8, random_state=99)\n",
    "\n",
    "## ---------------------------------------\n",
    "# ##pragma catch data conversions warnings - we know int64s will be converted to float64\n",
    "from sklearn.exceptions import DataConversionWarning\n",
    "warnings.filterwarnings(action='ignore', category=DataConversionWarning)\n",
    "\n",
    "scaler0 = MinMaxScaler()\n",
    "scaler0.fit(x_train0)\n",
    "\n",
    "# normalize explanatory variable x for task1\n",
    "x_train_norm0 = scaler.transform(\n",
    "    x_train0)\n",
    "x_test_norm0  = scaler.transform(x_test0)\n",
    "\n",
    "# reset warnings\n",
    "warnings.resetwarnings()\n",
    "## ---------------------------------------\n",
    "\n",
    "print(\"compare above models...\\n\")\n",
    "for model_name, clf in zip(classifiers_list, classifiers):\n",
    "    model = clf.fit(x_train_norm0, y_train0)\n",
    "    y_predict = model.predict(x_test_norm0)\n",
    "    print(model_name + ' accuracy: {0:.3f}%'.format(float((y_predict == y_test0).sum())/float(len(y_test0))))\n",
    "    print(classification_report(y_test0, y_predict))"
   ]
  },
  {
   "cell_type": "markdown",
   "metadata": {},
   "source": [
    "## Summary Statistics for new DataFrame"
   ]
  },
  {
   "cell_type": "markdown",
   "metadata": {},
   "source": [
    "## Describe the final dataset that is used for classification/regression"
   ]
  },
  {
   "cell_type": "code",
   "execution_count": 10,
   "metadata": {
    "collapsed": false
   },
   "outputs": [
    {
     "name": "stdout",
     "output_type": "stream",
     "text": [
      "            Weight      Apgar_1      Apgar_5     Gest_age  Maternal_age  \\\n",
      "count  4076.000000  4076.000000  4076.000000  4076.000000   4076.000000   \n",
      "mean   3355.048086     8.767664     9.363837    38.802993     27.839794   \n",
      "std     384.896728     0.730237     0.521778     1.074730      5.380683   \n",
      "min    1790.000000     2.000000     6.000000    34.000000     14.000000   \n",
      "25%    3098.750000     9.000000     9.000000    38.000000     24.000000   \n",
      "50%    3345.000000     9.000000     9.000000    39.000000     28.000000   \n",
      "75%    3610.000000     9.000000    10.000000    40.000000     31.000000   \n",
      "max    4890.000000    10.000000    10.000000    41.000000     44.000000   \n",
      "\n",
      "            Parity  Ponderal_index      Exposed  \n",
      "count  4076.000000     4076.000000  4076.000000  \n",
      "mean      0.611138        2.729498     0.517664  \n",
      "std       0.782109        0.228661     0.499749  \n",
      "min       0.000000        1.696000     0.000000  \n",
      "25%       0.000000        2.579992     0.000000  \n",
      "50%       0.000000        2.717342     1.000000  \n",
      "75%       1.000000        2.866328     1.000000  \n",
      "max       5.000000        5.283747     1.000000  \n"
     ]
    }
   ],
   "source": [
    "print(df_new_l.describe())"
   ]
  },
  {
   "cell_type": "markdown",
   "metadata": {},
   "source": [
    "## Choose and explain your evaluation metrics that you will use (i.e., accuracy,precision, recall, F-measure, or any metric we have discussed).Why are the measure(s) appropriate for analyzing the results of your modeling? Give a detailed explanation backing up any assertions."
   ]
  },
  {
   "cell_type": "markdown",
   "metadata": {},
   "source": [
    "1.Once we built the model, the most important question that arises is how good is the model? So, evaluating your model is the most important task in the data science project which delineates how good your predictions are.\n",
    "\n",
    "2.Accuracy is calculated as the total number of correct predictions divided by the total number of dataset. Accuracy measurement is good for balanced data . In our data set we have 2111 records of  pregnance woman that were exposed to the earthquake and 1967 records of pregnance woman that were not exposed to the earthquake.We dont have balanced data.So accuracy measurement is not good for our dataset.\n",
    "\n",
    "3.Recall is TP/(TP + FN) whereas precision is TP/(TP+FP). \n",
    "\n",
    "                                    Prediction class \n",
    "\n",
    "|       | Class= Yes | Class= No               | \n",
    "| -----------------------------:| ----------------------:|--------------------------:|-----------------------------:|\n",
    "| Actual Class                    | True Positive(TP)              | False Negative(FN)                        |\n",
    " | Actual Class         | False Positive(FP) | True Negative(TN)                      |   \n",
    " \n",
    " \n",
    " 4.Recall is more important than precision when the cost of acting is low, but the opportunity cost of passing up on a candidate is high.In other words,in our dataset  identifying pregenent woman:giving the medical attention to someone who doesn't need it( not exposed),and it costs a few dollars, don't give it to someone who does need it(exposed),and have complications.Because of this, health care plans may willing  offer the extra medical test to everyone, disregarding precision entirely.\n",
    " \n",
    " 5.Recall reflects the identification of instances with the condition, at the cost of including some instances without the condition. In medicine this is often called Sensitivity, a test is sensitive to identifying persons with the condition in question. Precision reflects the identification of only instances with the condition and none without the condition, at the cost of missing some with the condition. In medicine this is often called Specificity, a test is specific if only the persons who have a positive test have the condition in question. In our data set, Recall is more important than Precision, for several reasons. The data set could be used to identify women who are subjected to a major stress during the pregnancy, such as an earthquake, that would alter the health of the pregnancy and lead to premature delivery. Alternatively, it could be used to identify newborn infants who have been subjected to significant stress while a fetus, leading to fetal growth retardation. Infants and children who had fetal growth retardation have increased risks of several important problems, one of which is delayed brain development. The value of the test is to identify patients (pregnant women or newborn children) who are at increased risk of medical problems because of major stress, and concentrate specific resources on them to minimize potential resulting problems. Failure to identify these individuals who are at risk means failure to provide potential important therapy. On the other hand, including patients who are not at risk in treatments meant to benefit the at-risk individuals means spending critical time, resources, and money in situations where it has no benefit, taking these away from others who do have needs. The harm that might be caused by having a poor Recall (worsening mother and child health) is worse than the harm that might be caused by having a strong Precision (inefficient use of resources). Recall is the more important measure for our data. \n",
    " \n",
    "6.So we use Recall to measure the accuracy of our models\n",
    "        "
   ]
  },
  {
   "cell_type": "markdown",
   "metadata": {},
   "source": [
    "## Choose the method you will use for dividing your data into training and testing splits (i.e., are you using Stratified 10-fold cross validation? Why?). Explain why your chosen method is appropriate or use more than one method as appropriate."
   ]
  },
  {
   "cell_type": "markdown",
   "metadata": {},
   "source": [
    "We decided to use the industry standard of using the default Sickit learn test/train split. Our intention is to use grid search to see if it impacts the seperating the data. We also decided to split our data into two, one with the the original features/variables and the other with dummy variables. It was important to have a dataset with dummy variables as we needed to convert our categorical variables to binary for running our classification models."
   ]
  },
  {
   "cell_type": "markdown",
   "metadata": {},
   "source": [
    "# Data Visualization and Visual Analysis #"
   ]
  },
  {
   "cell_type": "code",
   "execution_count": null,
   "metadata": {
    "collapsed": true
   },
   "outputs": [],
   "source": []
  },
  {
   "cell_type": "code",
   "execution_count": null,
   "metadata": {
    "collapsed": true
   },
   "outputs": [],
   "source": []
  },
  {
   "cell_type": "markdown",
   "metadata": {},
   "source": [
    "Categorical variables identified: `Sex`, `Municipality`, `wgt_for_age`, `Trimester`, `Low_birthwgt`, `Premature`, `Trim_study`, `Parity`, `Exposed`, `Apgar_1`, `Apgar_5`, `Gest_age`\n",
    "\n",
    "Continuous variables identified: `Weight`, `Length`, `Head_circ`, `Maternal_age`, `Ponderal_index`"
   ]
  },
  {
   "cell_type": "markdown",
   "metadata": {},
   "source": [
    "## Summary Statistics and Commentary ##\n",
    "\n",
    "It is important to look at measurements of centrality and dispersion, such as mean and standard deviation, to help identify distributions and that observed values match prior expectations for those variables.\n",
    "\n",
    "### Main Observations ###\n",
    "\n",
    "Observations for continuous variables:\n",
    "+ `weight` has much larger values (due to small unit of measure) as well as a larger range than the other continuous variables.  This should be normalized before fitting any statistical models that use distance-based measurements for error.\n",
    "\n",
    "+ In the scatter plot matrix, there is evidence of symmetry in all continuous variables\n",
    "\n",
    "Observations for categorical variables:\n",
    "+ Most categorical variables have only a few categories (2 or 3)"
   ]
  },
  {
   "cell_type": "markdown",
   "metadata": {},
   "source": [
    "### Correlation ###\n",
    "- A few continuous variables appear approximately Normally distributed (e.g. `weight`, and `head_circ`), and all appear to be symmetric\n",
    "\n",
    "- The correlation scores in the data frame below show strongest linear correlation for the following pairs:\n",
    " - corr(`weight`,`length`) = .72, \n",
    " - corr(`weight`, `head_circ`) = .61\n",
    " - corr(`length`, `head_circ`) = .49\n",
    " - corr(`weight`, `ponderal_index`) = .49\n",
    " \n",
    "We expect these strong correlations because this is known information. We can confirm that a higher weight shows a strong relationship to the length of the baby, along with the size of the head circumference. Overall, the correlations do not reveal any surprising relationships. "
   ]
  },
  {
   "cell_type": "code",
   "execution_count": 7,
   "metadata": {
    "collapsed": false,
    "scrolled": true
   },
   "outputs": [
    {
     "data": {
      "text/html": [
       "<style  type=\"text/css\" >\n",
       "    #T_995910c0_22a2_11e9_9c9e_a5e491b8609frow0_col0 {\n",
       "            background-color:  #b40426;\n",
       "            color:  #f1f1f1;\n",
       "        }    #T_995910c0_22a2_11e9_9c9e_a5e491b8609frow0_col1 {\n",
       "            background-color:  #f18d6f;\n",
       "            color:  #000000;\n",
       "        }    #T_995910c0_22a2_11e9_9c9e_a5e491b8609frow0_col2 {\n",
       "            background-color:  #efcfbf;\n",
       "            color:  #000000;\n",
       "        }    #T_995910c0_22a2_11e9_9c9e_a5e491b8609frow0_col3 {\n",
       "            background-color:  #465ecf;\n",
       "            color:  #f1f1f1;\n",
       "        }    #T_995910c0_22a2_11e9_9c9e_a5e491b8609frow0_col4 {\n",
       "            background-color:  #f0cdbb;\n",
       "            color:  #000000;\n",
       "        }    #T_995910c0_22a2_11e9_9c9e_a5e491b8609frow1_col0 {\n",
       "            background-color:  #f7aa8c;\n",
       "            color:  #000000;\n",
       "        }    #T_995910c0_22a2_11e9_9c9e_a5e491b8609frow1_col1 {\n",
       "            background-color:  #b40426;\n",
       "            color:  #f1f1f1;\n",
       "        }    #T_995910c0_22a2_11e9_9c9e_a5e491b8609frow1_col2 {\n",
       "            background-color:  #cfdaea;\n",
       "            color:  #000000;\n",
       "        }    #T_995910c0_22a2_11e9_9c9e_a5e491b8609frow1_col3 {\n",
       "            background-color:  #4358cb;\n",
       "            color:  #f1f1f1;\n",
       "        }    #T_995910c0_22a2_11e9_9c9e_a5e491b8609frow1_col4 {\n",
       "            background-color:  #3b4cc0;\n",
       "            color:  #f1f1f1;\n",
       "        }    #T_995910c0_22a2_11e9_9c9e_a5e491b8609frow2_col0 {\n",
       "            background-color:  #efcfbf;\n",
       "            color:  #000000;\n",
       "        }    #T_995910c0_22a2_11e9_9c9e_a5e491b8609frow2_col1 {\n",
       "            background-color:  #f0cdbb;\n",
       "            color:  #000000;\n",
       "        }    #T_995910c0_22a2_11e9_9c9e_a5e491b8609frow2_col2 {\n",
       "            background-color:  #b40426;\n",
       "            color:  #f1f1f1;\n",
       "        }    #T_995910c0_22a2_11e9_9c9e_a5e491b8609frow2_col3 {\n",
       "            background-color:  #485fd1;\n",
       "            color:  #f1f1f1;\n",
       "        }    #T_995910c0_22a2_11e9_9c9e_a5e491b8609frow2_col4 {\n",
       "            background-color:  #bcd2f7;\n",
       "            color:  #000000;\n",
       "        }    #T_995910c0_22a2_11e9_9c9e_a5e491b8609frow3_col0 {\n",
       "            background-color:  #3b4cc0;\n",
       "            color:  #f1f1f1;\n",
       "        }    #T_995910c0_22a2_11e9_9c9e_a5e491b8609frow3_col1 {\n",
       "            background-color:  #88abfd;\n",
       "            color:  #000000;\n",
       "        }    #T_995910c0_22a2_11e9_9c9e_a5e491b8609frow3_col2 {\n",
       "            background-color:  #3b4cc0;\n",
       "            color:  #f1f1f1;\n",
       "        }    #T_995910c0_22a2_11e9_9c9e_a5e491b8609frow3_col3 {\n",
       "            background-color:  #b40426;\n",
       "            color:  #f1f1f1;\n",
       "        }    #T_995910c0_22a2_11e9_9c9e_a5e491b8609frow3_col4 {\n",
       "            background-color:  #80a3fa;\n",
       "            color:  #000000;\n",
       "        }    #T_995910c0_22a2_11e9_9c9e_a5e491b8609frow4_col0 {\n",
       "            background-color:  #cfdaea;\n",
       "            color:  #000000;\n",
       "        }    #T_995910c0_22a2_11e9_9c9e_a5e491b8609frow4_col1 {\n",
       "            background-color:  #3b4cc0;\n",
       "            color:  #f1f1f1;\n",
       "        }    #T_995910c0_22a2_11e9_9c9e_a5e491b8609frow4_col2 {\n",
       "            background-color:  #7699f6;\n",
       "            color:  #000000;\n",
       "        }    #T_995910c0_22a2_11e9_9c9e_a5e491b8609frow4_col3 {\n",
       "            background-color:  #3b4cc0;\n",
       "            color:  #f1f1f1;\n",
       "        }    #T_995910c0_22a2_11e9_9c9e_a5e491b8609frow4_col4 {\n",
       "            background-color:  #b40426;\n",
       "            color:  #f1f1f1;\n",
       "        }</style><table id=\"T_995910c0_22a2_11e9_9c9e_a5e491b8609f\" ><thead>    <tr>        <th class=\"blank level0\" ></th>        <th class=\"col_heading level0 col0\" >Weight</th>        <th class=\"col_heading level0 col1\" >Length</th>        <th class=\"col_heading level0 col2\" >Head_circ</th>        <th class=\"col_heading level0 col3\" >Maternal_age</th>        <th class=\"col_heading level0 col4\" >Ponderal_index</th>    </tr></thead><tbody>\n",
       "                <tr>\n",
       "                        <th id=\"T_995910c0_22a2_11e9_9c9e_a5e491b8609flevel0_row0\" class=\"row_heading level0 row0\" >Weight</th>\n",
       "                        <td id=\"T_995910c0_22a2_11e9_9c9e_a5e491b8609frow0_col0\" class=\"data row0 col0\" >1</td>\n",
       "                        <td id=\"T_995910c0_22a2_11e9_9c9e_a5e491b8609frow0_col1\" class=\"data row0 col1\" >0.722646</td>\n",
       "                        <td id=\"T_995910c0_22a2_11e9_9c9e_a5e491b8609frow0_col2\" class=\"data row0 col2\" >0.607322</td>\n",
       "                        <td id=\"T_995910c0_22a2_11e9_9c9e_a5e491b8609frow0_col3\" class=\"data row0 col3\" >0.0611526</td>\n",
       "                        <td id=\"T_995910c0_22a2_11e9_9c9e_a5e491b8609frow0_col4\" class=\"data row0 col4\" >0.48568</td>\n",
       "            </tr>\n",
       "            <tr>\n",
       "                        <th id=\"T_995910c0_22a2_11e9_9c9e_a5e491b8609flevel0_row1\" class=\"row_heading level0 row1\" >Length</th>\n",
       "                        <td id=\"T_995910c0_22a2_11e9_9c9e_a5e491b8609frow1_col0\" class=\"data row1 col0\" >0.722646</td>\n",
       "                        <td id=\"T_995910c0_22a2_11e9_9c9e_a5e491b8609frow1_col1\" class=\"data row1 col1\" >1</td>\n",
       "                        <td id=\"T_995910c0_22a2_11e9_9c9e_a5e491b8609frow1_col2\" class=\"data row1 col2\" >0.486965</td>\n",
       "                        <td id=\"T_995910c0_22a2_11e9_9c9e_a5e491b8609frow1_col3\" class=\"data row1 col3\" >0.0488968</td>\n",
       "                        <td id=\"T_995910c0_22a2_11e9_9c9e_a5e491b8609frow1_col4\" class=\"data row1 col4\" >-0.246581</td>\n",
       "            </tr>\n",
       "            <tr>\n",
       "                        <th id=\"T_995910c0_22a2_11e9_9c9e_a5e491b8609flevel0_row2\" class=\"row_heading level0 row2\" >Head_circ</th>\n",
       "                        <td id=\"T_995910c0_22a2_11e9_9c9e_a5e491b8609frow2_col0\" class=\"data row2 col0\" >0.607322</td>\n",
       "                        <td id=\"T_995910c0_22a2_11e9_9c9e_a5e491b8609frow2_col1\" class=\"data row2 col1\" >0.486965</td>\n",
       "                        <td id=\"T_995910c0_22a2_11e9_9c9e_a5e491b8609frow2_col2\" class=\"data row2 col2\" >1</td>\n",
       "                        <td id=\"T_995910c0_22a2_11e9_9c9e_a5e491b8609frow2_col3\" class=\"data row2 col3\" >0.0667801</td>\n",
       "                        <td id=\"T_995910c0_22a2_11e9_9c9e_a5e491b8609frow2_col4\" class=\"data row2 col4\" >0.238798</td>\n",
       "            </tr>\n",
       "            <tr>\n",
       "                        <th id=\"T_995910c0_22a2_11e9_9c9e_a5e491b8609flevel0_row3\" class=\"row_heading level0 row3\" >Maternal_age</th>\n",
       "                        <td id=\"T_995910c0_22a2_11e9_9c9e_a5e491b8609frow3_col0\" class=\"data row3 col0\" >0.0611526</td>\n",
       "                        <td id=\"T_995910c0_22a2_11e9_9c9e_a5e491b8609frow3_col1\" class=\"data row3 col1\" >0.0488968</td>\n",
       "                        <td id=\"T_995910c0_22a2_11e9_9c9e_a5e491b8609frow3_col2\" class=\"data row3 col2\" >0.0667801</td>\n",
       "                        <td id=\"T_995910c0_22a2_11e9_9c9e_a5e491b8609frow3_col3\" class=\"data row3 col3\" >1</td>\n",
       "                        <td id=\"T_995910c0_22a2_11e9_9c9e_a5e491b8609frow3_col4\" class=\"data row3 col4\" >0.0211695</td>\n",
       "            </tr>\n",
       "            <tr>\n",
       "                        <th id=\"T_995910c0_22a2_11e9_9c9e_a5e491b8609flevel0_row4\" class=\"row_heading level0 row4\" >Ponderal_index</th>\n",
       "                        <td id=\"T_995910c0_22a2_11e9_9c9e_a5e491b8609frow4_col0\" class=\"data row4 col0\" >0.48568</td>\n",
       "                        <td id=\"T_995910c0_22a2_11e9_9c9e_a5e491b8609frow4_col1\" class=\"data row4 col1\" >-0.246581</td>\n",
       "                        <td id=\"T_995910c0_22a2_11e9_9c9e_a5e491b8609frow4_col2\" class=\"data row4 col2\" >0.238798</td>\n",
       "                        <td id=\"T_995910c0_22a2_11e9_9c9e_a5e491b8609frow4_col3\" class=\"data row4 col3\" >0.0211695</td>\n",
       "                        <td id=\"T_995910c0_22a2_11e9_9c9e_a5e491b8609frow4_col4\" class=\"data row4 col4\" >1</td>\n",
       "            </tr>\n",
       "    </tbody></table>"
      ],
      "text/plain": [
       "<pandas.io.formats.style.Styler at 0x7f5d8d37a630>"
      ]
     },
     "metadata": {},
     "output_type": "display_data"
    }
   ],
   "source": [
    "#https://pandas.pydata.org/pandas-docs/stable/user_guide/style.html\n",
    "display(df_lite.corr().style.background_gradient('coolwarm'))"
   ]
  },
  {
   "cell_type": "markdown",
   "metadata": {},
   "source": [
    "If we look a little closer at correlation using bivariate contour plots, we see that there are a few cases with multiple density maxima, such as for `weight vs Head_circ` and `Head_circ` vs `Ponderal_index`. (Density maxima define a point process in which the fundamental quantity is the set of positions which are local maxima of the density field). These observations suggest looking more extensively for further hypothesis testing."
   ]
  },
  {
   "cell_type": "markdown",
   "metadata": {},
   "source": [
    "When we look at the distribution of newborns for each category in `Sex`, `Wealth`, `Trimester`, and `Parity` variables, we see the non-exposed (red) and exposed (blue) classes are **balanced** across all categories of all variables.  \n",
    "\n",
    "These plots are interpreted by first picking a categorical variable, say Sex, then pick a category, say Female.  Of all Females, the red bar represents the number that were exposed.  The blue bar is the number that were not exposed.\n",
    "\n",
    "Similar bar heights confirm the proportion of exposed newborns is similar to the proportion of non-exposed newborns. Thus, statistics computed for each category for exposed babies and non-exposed babies have a similar number of observations. Further anaylysis is needed to see if the differences observed between exposed and non-exposed are statistically significant. "
   ]
  },
  {
   "cell_type": "markdown",
   "metadata": {},
   "source": [
    "The distribution plots below show the continuous variables in a little more detail than the correlogram above.  `Weight` and `Ponderal_index` have the most bell-shaped curve. An interesting observation is the `Head_circ`distribution which shows a double peak with smaller peaks on each side. Differences in `Head_circ` are known to reflect difference in brain growth. Further analysis is warranted to discern any meaninful relationship to explain the peaks and valleys. "
   ]
  },
  {
   "cell_type": "markdown",
   "metadata": {},
   "source": [
    "To visualize the parallel coordinates, we changed the scale to normalize values for the dataset. \n",
    "\n",
    "From the output, we see that there is a stonger tendency for babies born after exposure to be mildly premature compared to babies born before exposure. This is interesting as we observe no other reason for this anomaly. However, causation does not equate to correlation, and further analysis must be pursued to determine if the exposure can be an explanation of this difference."
   ]
  },
  {
   "cell_type": "markdown",
   "metadata": {},
   "source": [
    "## Modeling:"
   ]
  },
  {
   "cell_type": "code",
   "execution_count": null,
   "metadata": {
    "collapsed": true
   },
   "outputs": [],
   "source": []
  },
  {
   "cell_type": "markdown",
   "metadata": {},
   "source": [
    "## Deployment:"
   ]
  },
  {
   "cell_type": "code",
   "execution_count": null,
   "metadata": {
    "collapsed": true
   },
   "outputs": [],
   "source": []
  },
  {
   "cell_type": "code",
   "execution_count": null,
   "metadata": {
    "collapsed": true
   },
   "outputs": [],
   "source": []
  }
 ],
 "metadata": {
  "kernelspec": {
   "display_name": "Python [default]",
   "language": "python",
   "name": "python3"
  },
  "language_info": {
   "codemirror_mode": {
    "name": "ipython",
    "version": 3
   },
   "file_extension": ".py",
   "mimetype": "text/x-python",
   "name": "python",
   "nbconvert_exporter": "python",
   "pygments_lexer": "ipython3",
   "version": "3.6.8"
  }
 },
 "nbformat": 4,
 "nbformat_minor": 2
}
